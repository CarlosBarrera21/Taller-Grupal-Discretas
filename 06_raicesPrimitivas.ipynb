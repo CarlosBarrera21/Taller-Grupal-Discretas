{
  "nbformat": 4,
  "nbformat_minor": 0,
  "metadata": {
    "colab": {
      "name": "06_raicesPrimitivas.ipynb",
      "provenance": []
    },
    "kernelspec": {
      "name": "python3",
      "display_name": "Python 3"
    },
    "language_info": {
      "name": "python"
    }
  },
  "cells": [
    {
      "cell_type": "markdown",
      "source": [
        "Una raiz primitiva módulo p (siendo p primo)es un entero r ∈ ℤp tal que todo elemento diferente de cero en ℤp es una potencia re r.\n",
        "Codificar una funcion `es_raiz_primitiva(n,p)` que reciba un número entero positivo n ∈ ℤp y un número primo p y cuyo output es `\"Sí!\"` si n es raiz primitiva módulo p `\"No!\"` en caso contrario."
      ],
      "metadata": {
        "id": "za163vBQK7w_"
      }
    },
    {
      "cell_type": "code",
      "execution_count": 8,
      "metadata": {
        "colab": {
          "base_uri": "https://localhost:8080/"
        },
        "id": "qRFqoQK6JYSL",
        "outputId": "caa79975-5893-4cad-b008-ab4a4de25e52"
      },
      "outputs": [
        {
          "output_type": "stream",
          "name": "stdout",
          "text": [
            "Introduzca el numero n: 2\n",
            "Introduzca el numero p: 5\n",
            "Si!\n"
          ]
        }
      ],
      "source": [
        "def primos_rel(a,b):\n",
        "        c = min(a,b)\n",
        "        d = max(a,b)\n",
        "        div = 2\n",
        "        cont = 0\n",
        "        while div <=c:\n",
        "            if(c % div == 0) and (d % div == 0):\n",
        "              return False\n",
        "            div += 1\n",
        "        return True\n",
        "\n",
        "def es_raiz_primitiva(n,p):\n",
        "  lista1 = []\n",
        "  lista2 = []\n",
        "  esPrimo = False\n",
        "\n",
        "  if (n > p or n == p or n ==0):\n",
        "    return print('n no pertenece al conjunto Zp')\n",
        "  cont = 0;\n",
        "  #Revisa si p es primo\n",
        "  for j in range(2,p):\n",
        "      if(p%j==0):\n",
        "        cont+=1  \n",
        "\n",
        "  if(cont<1):\n",
        "        esPrimo = True\n",
        "      \n",
        "  \n",
        "  if(esPrimo):\n",
        "    #Busca los primos relativos de p\n",
        "    for i in range(1, p):\n",
        "      if primos_rel(i,p):\n",
        "        lista1.append(i)\n",
        "    #Busca los numeros que genera n^i mod p    \n",
        "    i=0  \n",
        "    resultado = (n**i)%p\n",
        "    lista2.append(resultado)\n",
        "    i+=1\n",
        "    while((n**i)%p != 1):\n",
        "      resultado = (n**i)%p\n",
        "      lista2.append(resultado)\n",
        "      i+=1\n",
        "    lista2.sort()\n",
        "    \n",
        "    if(lista1 == lista2):\n",
        "      print('Si!')  \n",
        "    else:\n",
        "      print('No!')  \n",
        "  else:\n",
        "    print('P no es primo')    \n",
        "      \n",
        "n = int(input(\"Introduzca el numero n: \"))\n",
        "p =  int(input(\"Introduzca el numero p: \"))\n",
        "\n",
        "es_raiz_primitiva(n,p)"
      ]
    }
  ]
}