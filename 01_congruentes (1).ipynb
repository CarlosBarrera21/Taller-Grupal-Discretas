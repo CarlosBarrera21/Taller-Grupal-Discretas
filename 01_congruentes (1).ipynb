{
  "nbformat": 4,
  "nbformat_minor": 0,
  "metadata": {
    "colab": {
      "name": "01_congruentes.ipynb",
      "provenance": [],
      "collapsed_sections": []
    },
    "kernelspec": {
      "name": "python3",
      "display_name": "Python 3"
    },
    "language_info": {
      "name": "python"
    }
  },
  "cells": [
    {
      "cell_type": "markdown",
      "source": [
        " Defina una función `son_congruentes(a,b,m)` cuyo output es el string `\"Si!\" `si a ≅ b , `\"NO!\"` en caso contrario."
      ],
      "metadata": {
        "id": "0V7w7VF_ptMG"
      }
    },
    {
      "cell_type": "code",
      "execution_count": null,
      "metadata": {
        "id": "lCXprj4donB7"
      },
      "outputs": [],
      "source": [
        "\n",
        "def son_congruentes(a,b,m):\n",
        "    a = int(input(\"introduzca el número a:  \"))\n",
        "    b = int(input(\"Introduzca el número b:  \"))\n",
        "    m = int(input(\"Introduzca el módulo de los números:  \"))\n",
        "    residuo1 = a%m\n",
        "    residuo2 = b%m\n",
        "    if residuo1==residuo2:\n",
        "        print(\"Si!\")\n",
        "    else:\n",
        "        print(\"NO!\")\n",
        "son_congruentes(0,0,0)"
      ]
    }
  ]
}