{
  "nbformat": 4,
  "nbformat_minor": 0,
  "metadata": {
    "colab": {
      "name": "05_coefsBezout.ipynb",
      "provenance": [],
      "collapsed_sections": []
    },
    "kernelspec": {
      "name": "python3",
      "display_name": "Python 3"
    },
    "language_info": {
      "name": "python"
    }
  },
  "cells": [
    {
      "cell_type": "markdown",
      "source": [
        "Codificar una función` coefz_bezout(a,b)` que reciba dos números enteros positivos a,b y calcule los coeficientes de bezout.Es decir su output sean dos numeros *s* y *t* tales que a ⋅ s + b ⋅ t=mcd(a,b).\n",
        "\n",
        "\n",
        "\n",
        "* Adicionalmente cree una función  \n",
        "`inverso_modulo(a,m)` cuyo output es un entero: el inverso de a en ℤm. \n",
        "\n",
        "\n"
      ],
      "metadata": {
        "id": "M2wSfF3ZJvb_"
      }
    },
    {
      "cell_type": "code",
      "execution_count": 98,
      "metadata": {
        "id": "QaJ_nUK_JW_l"
      },
      "outputs": [],
      "source": [
        "def mcd(a,b): #hallar el maximo comun divisor\n",
        "   while (b>0): #b> mayor que cero ya que no se puede dividir entre cero\n",
        "        \n",
        "        residuo = a%b\n",
        "        \n",
        "        if(residuo == 0):    \n",
        "            return b\n",
        "            \n",
        "        a = b\n",
        "        b=residuo"
      ]
    },
    {
      "cell_type": "code",
      "source": [
        "mcd(15,7)"
      ],
      "metadata": {
        "colab": {
          "base_uri": "https://localhost:8080/"
        },
        "id": "m5ovc_cLmoLh",
        "outputId": "e5653c5d-b514-4287-a481-b370c4df8957"
      },
      "execution_count": 102,
      "outputs": [
        {
          "output_type": "execute_result",
          "data": {
            "text/plain": [
              "1"
            ]
          },
          "metadata": {},
          "execution_count": 102
        }
      ]
    },
    {
      "cell_type": "code",
      "source": [
        "def coefs_bezout(a, b):\n",
        "    \n",
        "    if a == 0:\n",
        "        return (0, 1)\n",
        "    else:\n",
        "        s, t = coefs_bezout(b % a, a)\n",
        "        \n",
        "    return (t - (b // a) * s, s)\n"
      ],
      "metadata": {
        "id": "0OYfQcCuajeX"
      },
      "execution_count": 64,
      "outputs": []
    },
    {
      "cell_type": "code",
      "source": [
        "coefs_bezout(12,18)"
      ],
      "metadata": {
        "id": "_nscq5RQhVbB",
        "colab": {
          "base_uri": "https://localhost:8080/"
        },
        "outputId": "0606a2e3-5861-40c0-9024-abe61dce5bc2"
      },
      "execution_count": 66,
      "outputs": [
        {
          "output_type": "execute_result",
          "data": {
            "text/plain": [
              "(-1, 1)"
            ]
          },
          "metadata": {},
          "execution_count": 66
        }
      ]
    },
    {
      "cell_type": "code",
      "source": [
        "def inverso_modulo(a,m):\n",
        "  \n",
        "  MCD = mcd(a,m)\n",
        "    \n",
        "  s, t = coefs_bezout(a, m)\n",
        "    \n",
        "  if MCD != 1:\n",
        "        print('El mcd es distinto de 1 por lo tanto no existe el inverso modular')\n",
        "  else:\n",
        "  \n",
        "        x= s % m\n",
        "        print (\"el inverso modular es \",x,)\n",
        "\n",
        "  "
      ],
      "metadata": {
        "id": "j2DyXymHarSt"
      },
      "execution_count": 83,
      "outputs": []
    },
    {
      "cell_type": "code",
      "source": [
        "inverso_modulo(110,273)"
      ],
      "metadata": {
        "colab": {
          "base_uri": "https://localhost:8080/"
        },
        "id": "-dRgKa6tnDMh",
        "outputId": "560041e8-3dd8-4d9b-d120-778211c9c384"
      },
      "execution_count": 86,
      "outputs": [
        {
          "output_type": "stream",
          "name": "stdout",
          "text": [
            "el inverso modular es  206\n"
          ]
        }
      ]
    }
  ]
}