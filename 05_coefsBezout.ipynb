{
  "nbformat": 4,
  "nbformat_minor": 0,
  "metadata": {
    "colab": {
      "name": "05_coefsBezout.ipynb",
      "provenance": [],
      "authorship_tag": "ABX9TyOJCgWJymX/gEN+RBoohhXY",
      "include_colab_link": true
    },
    "kernelspec": {
      "name": "python3",
      "display_name": "Python 3"
    },
    "language_info": {
      "name": "python"
    }
  },
  "cells": [
    {
      "cell_type": "markdown",
      "metadata": {
        "id": "view-in-github",
        "colab_type": "text"
      },
      "source": [
        "<a href=\"https://colab.research.google.com/github/CarlosBarrera21/Taller-Grupal-Discretas/blob/main/05_coefsBezout.ipynb\" target=\"_parent\"><img src=\"https://colab.research.google.com/assets/colab-badge.svg\" alt=\"Open In Colab\"/></a>"
      ]
    },
    {
      "cell_type": "markdown",
      "source": [
        "Codificar una función` coefz_bezout(a,b)` que reciba dos números enteros positivos a,b y calcule los coeficientes de bezout.Es decir su output sean dos numeros *s* y *t* tales que a ⋅ s + b ⋅ t=mcd(a,b).\n",
        "\n",
        "\n",
        "\n",
        "* Adicionalmente cree una función  \n",
        "`inverso_modulo(a,m)` cuyo output es un entero: el inverso de a en ℤm. \n",
        "\n",
        "\n"
      ],
      "metadata": {
        "id": "M2wSfF3ZJvb_"
      }
    },
    {
      "cell_type": "code",
      "execution_count": 35,
      "metadata": {
        "id": "QaJ_nUK_JW_l"
      },
      "outputs": [],
      "source": [
        "def mcd(x,y): #hallar el maximo comun divisor\n",
        "  mcd=0\n",
        "  if x % y == 0:\n",
        "     return y\n",
        "     for k in range(y/2,0,-1):\n",
        "       if x % k==0 and y%k==0:\n",
        "         mcd =k\n",
        "         return mcd(x,y)"
      ]
    },
    {
      "cell_type": "code",
      "source": [
        "mcd(100,5)"
      ],
      "metadata": {
        "colab": {
          "base_uri": "https://localhost:8080/"
        },
        "id": "anxmzxYMhRBz",
        "outputId": "b7428a16-8772-4568-f0b8-4c7fc3075268"
      },
      "execution_count": 38,
      "outputs": [
        {
          "output_type": "execute_result",
          "data": {
            "text/plain": [
              "5"
            ]
          },
          "metadata": {},
          "execution_count": 38
        }
      ]
    },
    {
      "cell_type": "code",
      "source": [
        "def coefs_bezout(a,b):\n",
        "  aIni = a\n",
        "  bIni = b\n",
        "  \n",
        "  if b>a:\n",
        "    c = a\n",
        "    a = b\n",
        "    b = c\n",
        "\n",
        "  \n",
        "  listaS = [1,0]\n",
        "  listaT = [0,1]\n",
        "  coeficientes = []\n",
        "  contador = 2\n",
        "  while(a%b !=0):\n",
        "    coeficientes.append(a//b)\n",
        "    s = listaS([contador-2] - (listaS[contador-1] * coeficientes[contador-2]))\n",
        "    listaS.append(s)\n",
        "    t = listaT([contador-2] - (listaT[contador-1] * coeficientes[contador-2]))\n",
        "    listaT.append(t)\n",
        "    d = a\n",
        "    a = b\n",
        "    b = d%b\n",
        "    contador =contador + 1\n",
        "  \n",
        "  if(aIni > bIni):\n",
        "    CoeficientesBezout = [listaS[-1],listaT[-1]]\n",
        "  else:\n",
        "    CoeficientesBezout = [listaS[-1],listaT[-1]]\n",
        "  return CoeficientesBezout"
      ],
      "metadata": {
        "id": "0OYfQcCuajeX"
      },
      "execution_count": 40,
      "outputs": []
    },
    {
      "cell_type": "code",
      "source": [
        "coefs_bezout(25,80)"
      ],
      "metadata": {
        "colab": {
          "base_uri": "https://localhost:8080/",
          "height": 300
        },
        "id": "_nscq5RQhVbB",
        "outputId": "7e1a1d34-28a8-4793-c445-b744bee1cee8"
      },
      "execution_count": 42,
      "outputs": [
        {
          "output_type": "error",
          "ename": "TypeError",
          "evalue": "ignored",
          "traceback": [
            "\u001b[0;31m---------------------------------------------------------------------------\u001b[0m",
            "\u001b[0;31mTypeError\u001b[0m                                 Traceback (most recent call last)",
            "\u001b[0;32m<ipython-input-42-3730e2a8365b>\u001b[0m in \u001b[0;36m<module>\u001b[0;34m()\u001b[0m\n\u001b[0;32m----> 1\u001b[0;31m \u001b[0mcoefs_bezout\u001b[0m\u001b[0;34m(\u001b[0m\u001b[0;36m25\u001b[0m\u001b[0;34m,\u001b[0m\u001b[0;36m80\u001b[0m\u001b[0;34m)\u001b[0m\u001b[0;34m\u001b[0m\u001b[0;34m\u001b[0m\u001b[0m\n\u001b[0m",
            "\u001b[0;32m<ipython-input-40-ae8492c0477a>\u001b[0m in \u001b[0;36mcoefs_bezout\u001b[0;34m(a, b)\u001b[0m\n\u001b[1;32m     15\u001b[0m   \u001b[0;32mwhile\u001b[0m\u001b[0;34m(\u001b[0m\u001b[0ma\u001b[0m\u001b[0;34m%\u001b[0m\u001b[0mb\u001b[0m \u001b[0;34m!=\u001b[0m\u001b[0;36m0\u001b[0m\u001b[0;34m)\u001b[0m\u001b[0;34m:\u001b[0m\u001b[0;34m\u001b[0m\u001b[0;34m\u001b[0m\u001b[0m\n\u001b[1;32m     16\u001b[0m     \u001b[0mcoeficientes\u001b[0m\u001b[0;34m.\u001b[0m\u001b[0mappend\u001b[0m\u001b[0;34m(\u001b[0m\u001b[0ma\u001b[0m\u001b[0;34m//\u001b[0m\u001b[0mb\u001b[0m\u001b[0;34m)\u001b[0m\u001b[0;34m\u001b[0m\u001b[0;34m\u001b[0m\u001b[0m\n\u001b[0;32m---> 17\u001b[0;31m     \u001b[0ms\u001b[0m \u001b[0;34m=\u001b[0m \u001b[0mlistaS\u001b[0m\u001b[0;34m(\u001b[0m\u001b[0;34m[\u001b[0m\u001b[0mcontador\u001b[0m\u001b[0;34m-\u001b[0m\u001b[0;36m2\u001b[0m\u001b[0;34m]\u001b[0m \u001b[0;34m-\u001b[0m \u001b[0;34m(\u001b[0m\u001b[0mlistaS\u001b[0m\u001b[0;34m[\u001b[0m\u001b[0mcontador\u001b[0m\u001b[0;34m-\u001b[0m\u001b[0;36m1\u001b[0m\u001b[0;34m]\u001b[0m \u001b[0;34m*\u001b[0m \u001b[0mcoeficientes\u001b[0m\u001b[0;34m[\u001b[0m\u001b[0mcontador\u001b[0m\u001b[0;34m-\u001b[0m\u001b[0;36m2\u001b[0m\u001b[0;34m]\u001b[0m\u001b[0;34m)\u001b[0m\u001b[0;34m)\u001b[0m\u001b[0;34m\u001b[0m\u001b[0;34m\u001b[0m\u001b[0m\n\u001b[0m\u001b[1;32m     18\u001b[0m     \u001b[0mlistaS\u001b[0m\u001b[0;34m.\u001b[0m\u001b[0mappend\u001b[0m\u001b[0;34m(\u001b[0m\u001b[0ms\u001b[0m\u001b[0;34m)\u001b[0m\u001b[0;34m\u001b[0m\u001b[0;34m\u001b[0m\u001b[0m\n\u001b[1;32m     19\u001b[0m     \u001b[0mt\u001b[0m \u001b[0;34m=\u001b[0m \u001b[0mlistaT\u001b[0m\u001b[0;34m(\u001b[0m\u001b[0;34m[\u001b[0m\u001b[0mcontador\u001b[0m\u001b[0;34m-\u001b[0m\u001b[0;36m2\u001b[0m\u001b[0;34m]\u001b[0m \u001b[0;34m-\u001b[0m \u001b[0;34m(\u001b[0m\u001b[0mlistaT\u001b[0m\u001b[0;34m[\u001b[0m\u001b[0mcontador\u001b[0m\u001b[0;34m-\u001b[0m\u001b[0;36m1\u001b[0m\u001b[0;34m]\u001b[0m \u001b[0;34m*\u001b[0m \u001b[0mcoeficientes\u001b[0m\u001b[0;34m[\u001b[0m\u001b[0mcontador\u001b[0m\u001b[0;34m-\u001b[0m\u001b[0;36m2\u001b[0m\u001b[0;34m]\u001b[0m\u001b[0;34m)\u001b[0m\u001b[0;34m)\u001b[0m\u001b[0;34m\u001b[0m\u001b[0;34m\u001b[0m\u001b[0m\n",
            "\u001b[0;31mTypeError\u001b[0m: unsupported operand type(s) for -: 'list' and 'int'"
          ]
        }
      ]
    },
    {
      "cell_type": "code",
      "source": [
        "def inverso_modulo(x,y):\n",
        "  \n",
        "  if mcd(x,y) == 1:\n",
        "    coeficientes = coefs_bezout(x,y)\n",
        "    inverso = coeficientes[0]%m\n",
        "    \n",
        "  print (f\"el inverso de {x} modulo {y} es {inverso} \")\n",
        "\n",
        "  "
      ],
      "metadata": {
        "id": "j2DyXymHarSt"
      },
      "execution_count": 36,
      "outputs": []
    },
    {
      "cell_type": "code",
      "source": [
        "mcd(110,273)"
      ],
      "metadata": {
        "id": "lQ9THQz0fLy3"
      },
      "execution_count": 37,
      "outputs": []
    }
  ]
}