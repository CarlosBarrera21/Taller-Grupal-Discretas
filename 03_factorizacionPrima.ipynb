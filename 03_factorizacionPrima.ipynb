{
  "nbformat": 4,
  "nbformat_minor": 0,
  "metadata": {
    "colab": {
      "name": "03_factorizacionPrima.ipynb",
      "provenance": []
    },
    "kernelspec": {
      "name": "python3",
      "display_name": "Python 3"
    },
    "language_info": {
      "name": "python"
    }
  },
  "cells": [
    {
      "cell_type": "markdown",
      "source": [
        "El Teorema Fundamental de la Aritmetica menciona que todo numero se puede descoponer de forma unica como producto de factores primos. Por ejemplo 60=2^2  3^1⋅ 5^1.Codifique una funcion `factoriza(n)` que reciba un entero positivo n cuyo output sea un array donde la primera fila contiene los numeros primos de la factorizacion en orden ascendete y la segunda fila contiene las potencias correspondientes.Por ejemplo `factoriza(60)` el output ser+a el numpy array `[[2,3,5],[2,1,1]]`.\n",
        "\n",
        "\n",
        "*  Adicionalmente cree una funcion llamada `test(?,?,..?)`(como usted desee) que le ayude a verificar los calculos que hizo la funcion `factoriza`.\n",
        "\n",
        "\n"
      ],
      "metadata": {
        "id": "o3t8Sfw6ve8G"
      }
    },
    {
      "cell_type": "code",
      "execution_count": null,
      "metadata": {
        "id": "F1D1eArZln1P"
      },
      "outputs": [],
      "source": [
        "import math\n",
        "import numpy as np\n",
        "from numpy.core.arrayprint import array2string\n",
        "\n",
        "def factoriza(n):\n",
        "  m = n//2\n",
        "  lista1 = []\n",
        "  lista2 = []\n",
        "  aux = n\n",
        "  contador=0\n",
        "  \n",
        "  for i in range(2,m):\n",
        "    esPrimo = False\n",
        "    contador = 0\n",
        "    #Encuentra los factores\n",
        "    if(n%i==0):\n",
        "      cont = 0\n",
        "\n",
        "     #Verifica que el factor es primo\n",
        "      for j in range(1,i):\n",
        "        if(i%j==0):\n",
        "          cont+=1  \n",
        "\n",
        "      if(cont<=1):\n",
        "        esPrimo = True\n",
        "\n",
        "      #Potencias del factor \n",
        "      if(esPrimo):\n",
        "      \n",
        "        while(aux%i == 0):\n",
        "          aux = aux/i\n",
        "          contador+=1\n",
        "\n",
        "        lista1.append(i)    \n",
        "        lista2.append(contador) \n",
        "\n",
        "  array1 = np.array([[lista1],[lista2]])\n",
        "  \n",
        "  return array1\n",
        "\n",
        "\n",
        "#Funcion para verificar los calculos de factoriza(n)\n",
        "def test():\n",
        "  n = int(input(\"Introduzca un número: \"))   \n",
        "  a = factoriza(n)\n",
        "  total = 1\n",
        "  numero = 1\n",
        "  m=0\n",
        "\n",
        "  #Multiplica los factores y sus potencias\n",
        "  for j in range(len(a[0])):\n",
        "    numero = numero*pow(a[m][j],a[m+1][j])\n",
        "    \n",
        "  for i in range(len(numero)):\n",
        "    total = total*numero[i]\n",
        "\n",
        "  print(f'Factores: {a[0]}  Potencias: {a[1]} ')\n",
        "  print(f'Resultado:{total}')\n",
        "\n",
        "test()"
      ]
    }
  ]
}