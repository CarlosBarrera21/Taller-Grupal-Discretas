{
  "nbformat": 4,
  "nbformat_minor": 0,
  "metadata": {
    "colab": {
      "name": "'04_algEuclideano.ipynb",
      "provenance": []
    },
    "kernelspec": {
      "name": "python3",
      "display_name": "Python 3"
    },
    "language_info": {
      "name": "python"
    }
  },
  "cells": [
    {
      "cell_type": "markdown",
      "source": [
        "Codifique una función `mcd(a,b)`que reciba dos enteros positivos  y cuyo output sea el valor del máximo común divisor entre a y b.\n",
        "Adicionalmente cree una función \n",
        "\n",
        "*   Adicionalmente cree una función llamada `primos_relativos(a,b)` cuyo output es`\"Si!\"` si  y  sonprimos relativos y `\"NO!\"` en caso contrario.\n",
        "\n",
        "\n",
        "\n",
        "\n",
        "\n",
        "\n"
      ],
      "metadata": {
        "id": "ofgiovSKup1Y"
      }
    },
    {
      "cell_type": "code",
      "execution_count": null,
      "metadata": {
        "id": "Kg6NSOugumgd"
      },
      "outputs": [],
      "source": [
        "a = int(input(\"Ingrese un número:  \"))\n",
        "while a <= 0:\n",
        "    a = int(input(\"Ingrese un número mayor a cero por favor:  \"))\n",
        "b = int(input(\"Ingrese otro número:  \"))\n",
        "while b <= 0:\n",
        "        b = int(input(\"Ingrese un número mayor cero por favor:  \"))\n",
        "def mcd(a,b):\n",
        "    while True:\n",
        "        resto = a % b\n",
        "        if resto == 0:\n",
        "            return b\n",
        "        else:\n",
        "            a = b\n",
        "            b = resto\n",
        "    print(mcd)\n",
        "def primos_rel(a,b):\n",
        "        c = min(a,b)\n",
        "        d = max(a,b)\n",
        "        div = 2\n",
        "        while div <=a:\n",
        "            if(c % div == 0) and (d % div == 0):\n",
        "                return print(\"NO!\")\n",
        "            div += 1\n",
        "        return print(\"Si!\")\n",
        "mcd(a,b), primos_rel(a,b)"
      ]
    }
  ]
}