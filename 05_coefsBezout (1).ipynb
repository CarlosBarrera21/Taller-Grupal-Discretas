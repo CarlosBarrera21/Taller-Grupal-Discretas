{
  "nbformat": 4,
  "nbformat_minor": 0,
  "metadata": {
    "colab": {
      "name": "05_coefsBezout.ipynb",
      "provenance": [],
      "collapsed_sections": []
    },
    "kernelspec": {
      "name": "python3",
      "display_name": "Python 3"
    },
    "language_info": {
      "name": "python"
    }
  },
  "cells": [
    {
      "cell_type": "markdown",
      "source": [
        "Codificar una función` coefz_bezout(a,b)` que reciba dos números enteros positivos a,b y calcule los coeficientes de bezout.Es decir su output sean dos numeros *s* y *t* tales que a ⋅ s + b ⋅ t=mcd(a,b).\n",
        "\n",
        "\n",
        "\n",
        "* Adicionalmente cree una función  \n",
        "`inverso_modulo(a,m)` cuyo output es un entero: el inverso de a en ℤm. \n",
        "\n",
        "\n"
      ],
      "metadata": {
        "id": "M2wSfF3ZJvb_"
      }
    },
    {
      "cell_type": "code",
      "source": [
        "def coefs_bezout(a, b):\n",
        "    \n",
        "    if a == 0:\n",
        "        return (0, 1)\n",
        "    else:\n",
        "        s, t = coefs_bezout(b % a, a) #a>0\n",
        "        \n",
        "    return (t-(b // a) * s, s)\n"
      ],
      "metadata": {
        "id": "0OYfQcCuajeX"
      },
      "execution_count": 159,
      "outputs": []
    },
    {
      "cell_type": "code",
      "source": [
        "coefs_bezout(18,50)"
      ],
      "metadata": {
        "id": "_nscq5RQhVbB",
        "colab": {
          "base_uri": "https://localhost:8080/"
        },
        "outputId": "10791473-e7d5-40e1-d7a7-a359c658da43"
      },
      "execution_count": 160,
      "outputs": [
        {
          "output_type": "execute_result",
          "data": {
            "text/plain": [
              "(-11, 4)"
            ]
          },
          "metadata": {},
          "execution_count": 160
        }
      ]
    },
    {
      "cell_type": "code",
      "source": [
        "import math\n",
        "def inverso_modulo(a,m):\n",
        "  \n",
        "  MCD = math.gcd(a,m)\n",
        "    \n",
        "  s, t = coefs_bezout(a, m)\n",
        "    \n",
        "  if MCD != 1:\n",
        "        print('El mcd es distinto de 1 por lo tanto no existe el inverso modular')\n",
        "  else:\n",
        "  \n",
        "        x= s % m\n",
        "        print (\"el inverso modular es \",x,)\n",
        "\n",
        "  "
      ],
      "metadata": {
        "id": "j2DyXymHarSt"
      },
      "execution_count": 161,
      "outputs": []
    },
    {
      "cell_type": "code",
      "source": [
        "inverso_modulo(110,273)"
      ],
      "metadata": {
        "colab": {
          "base_uri": "https://localhost:8080/"
        },
        "id": "-dRgKa6tnDMh",
        "outputId": "d5c70479-fe4d-4272-9273-e63cc68e47bd"
      },
      "execution_count": 162,
      "outputs": [
        {
          "output_type": "stream",
          "name": "stdout",
          "text": [
            "el inverso modular es  206\n"
          ]
        }
      ]
    }
  ]
}