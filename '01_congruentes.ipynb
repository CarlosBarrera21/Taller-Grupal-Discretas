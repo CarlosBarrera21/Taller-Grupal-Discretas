{
 "cells": [
  {
   "cell_type": "code",
   "execution_count": null,
   "id": "66af81c3",
   "metadata": {},
   "outputs": [],
   "source": []
  },
  {
   "cell_type": "code",
   "execution_count": 1,
   "id": "2d44fced",
   "metadata": {},
   "outputs": [
    {
     "name": "stdout",
     "output_type": "stream",
     "text": [
      "introduzca el número a:  25\n",
      "Introduzca el número b:  5\n",
      "Introduzca el módulo de los números:  5\n",
      "Si!\n"
     ]
    }
   ],
   "source": [
    "# Defina una función (son_congruentes(a,b,m)) cuyo output es el string \"Si!\" si , \"NO!\"en caso contrario.\n",
    "def son_congruentes(a,b,m):\n",
    "    a = int(input(\"introduzca el número a:  \"))\n",
    "    b = int(input(\"Introduzca el número b:  \"))\n",
    "    m = int(input(\"Introduzca el módulo de los números:  \"))\n",
    "    residuo1 = a%m\n",
    "    residuo2 = b%m\n",
    "    if residuo1==residuo2:\n",
    "        print(\"Si!\")\n",
    "    else:\n",
    "        print(\"NO!\")\n",
    "son_congruentes(0,0,0)"
   ]
  },
  {
   "cell_type": "code",
   "execution_count": null,
   "id": "737b7dd8",
   "metadata": {},
   "outputs": [],
   "source": []
  },
  {
   "cell_type": "code",
   "execution_count": null,
   "id": "7b4dae1b",
   "metadata": {},
   "outputs": [],
   "source": []
  },
  {
   "cell_type": "code",
   "execution_count": null,
   "id": "157cdb33",
   "metadata": {},
   "outputs": [],
   "source": []
  },
  {
   "cell_type": "code",
   "execution_count": null,
   "id": "b742a81f",
   "metadata": {},
   "outputs": [],
   "source": []
  }
 ],
 "metadata": {
  "kernelspec": {
   "display_name": "Python 3 (ipykernel)",
   "language": "python",
   "name": "python3"
  },
  "language_info": {
   "codemirror_mode": {
    "name": "ipython",
    "version": 3
   },
   "file_extension": ".py",
   "mimetype": "text/x-python",
   "name": "python",
   "nbconvert_exporter": "python",
   "pygments_lexer": "ipython3",
   "version": "3.10.2"
  }
 },
 "nbformat": 4,
 "nbformat_minor": 5
}
