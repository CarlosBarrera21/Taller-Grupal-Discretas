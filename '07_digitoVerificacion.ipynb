{
 "cells": [
  {
   "cell_type": "code",
   "execution_count": 18,
   "id": "f3a98bb4",
   "metadata": {},
   "outputs": [
    {
     "name": "stdout",
     "output_type": "stream",
     "text": [
      "Escriba un numero:  123456789\n",
      "[ 1  4  9 16 25 36 49 64 81]\n",
      "285\n",
      "10\n"
     ]
    }
   ],
   "source": [
    "import numpy as np\n",
    "#Importamos la función numpy para poder hacer la multiplicación entre las listas\n",
    "lst = []\n",
    "#Creamos una lista para el ingreso del código\n",
    "def digito_verificacion(n):\n",
    "    lst2=[1,2,3,4,5,6,7,8,9]\n",
    "    \n",
    "#definimos lst2 como 1,2,3,...,9 para hacer más simple la operación sin necesidad de usar for\n",
    "    \n",
    "    for i in n:\n",
    "        lst.append(int(i))\n",
    "    \n",
    "#Este for hace que los datos ingresados inicialmente se agreguen a la lista \"lst\"\n",
    "        \n",
    "    product = (np.multiply(lst[0:9],lst2[0:9]))\n",
    "    #Con esta operación tomamos los primeros 9 números de la lista que ingresó el usuario y multiplicamos por\n",
    "    #la lista que ya definimos \"lst2\" (1,2,3,...,9)\n",
    "    #Afuera del paréntesis ponemos \"%11\" lo cual indica que a cada numero de la lista sacará su mod11 \n",
    "    #Por cierto, esto se guarda en una nueva lista \"product\"\n",
    "    print(product)\n",
    "    #Aquí imprimimos \"product\" para verificar los datos de la lista luego de la suma\n",
    "    \n",
    "    sumatoria= sum(product[0:9])\n",
    "    print(sumatoria)\n",
    "    #\n",
    "    #La idea de este print es poder verificar el modulo 11 de sumatoria manualmente\n",
    "    #\n",
    "    sumatoria = sumatoria%11\n",
    "    #Sumamos los primeros 9 numeros de numeros de la lista \"product\" e utilizamos %11 para hallar el modulo11 de sumatoria\n",
    "    print(sumatoria)\n",
    "    \n",
    "user_input = input(\"Escriba un numero:  \")\n",
    "\n",
    "digito_verificacion(user_input)\n",
    "#Con este input hacemos que el usuario digite el código\n",
    "#Gracias a realizar las operaciones solo con los primeros 9 numeros, no importará la cantidad de digitos que ingrese el usuario"
   ]
  },
  {
   "cell_type": "code",
   "execution_count": 19,
   "id": "956b08ad",
   "metadata": {},
   "outputs": [
    {
     "name": "stdout",
     "output_type": "stream",
     "text": [
      "Escriba un numero:  123456789219649845498\n",
      "[1 4 9 5 3 3 5 9 4]\n",
      "43\n",
      "10\n"
     ]
    }
   ],
   "source": [
    "#En caso de que se ingrese una lista menor que 9, nuestro programa no se ejecutará ya que el ejercicio\n",
    "#nos dice que de un codigo que ingrese el usuario debemos hacer la operación con sus primeros 9 digitos\n",
    "\n",
    "\n",
    "\n",
    "\n",
    "###Bueno ahora intentemos usarlo introduciendo más de 9 digitos\n",
    "\n",
    "\n",
    "\n",
    "\n",
    "\n",
    "\n",
    "import numpy as np\n",
    "#Importamos la función numpy para poder hacer la multiplicación entre las listas\n",
    "lst = []\n",
    "#Creamos una lista para el ingreso del código\n",
    "def digito_verificacion(n):\n",
    "    lst2=[1,2,3,4,5,6,7,8,9]\n",
    "    \n",
    "#definimos lst2 como 1,2,3,...,9 para hacer más simple la operación sin necesidad de usar for\n",
    "    \n",
    "    for i in n:\n",
    "        lst.append(int(i))\n",
    "#Este for hace que los datos ingresados inicialmente se agreguen a la lista \"lst\"\n",
    "        \n",
    "    product = (np.multiply(lst[0:9],lst2[0:9]))%11\n",
    "    #Con esta operación tomamos los primeros 9 números de la lista que ingresó el usuario y multiplicamos por\n",
    "    #la lista que ya definimos \"lst2\" (1,2,3,...,9)\n",
    "    #Afuera del paréntesis ponemos \"%11\" lo cual indica que a cada numero de la lista sacará su mod11 \n",
    "    #Por cierto, esto se guarda en una nueva lista \"product\"\n",
    "    print(product)\n",
    "    #Aquí imprimimos \"product\" para verificar los datos de la lista luego de la suma\n",
    "    sumatoria= sum(product[0:9])\n",
    "    #Sumamos los primeros 9 numeros de numeros de la lista \"product\"\n",
    "    print(sumatoria)\n",
    "    #\n",
    "    #La idea de este print es poder verificar el modulo 11 de sumatoria manualmente\n",
    "    #\n",
    "    sumatoria = sumatoria%11\n",
    "    #Sumamos los primeros 9 numeros de numeros de la lista \"product\" e utilizamos %11 para hallar el modulo11 de sumatoria\n",
    "    print(sumatoria)\n",
    "user_input = input(\"Escriba un numero:  \")\n",
    "digito_verificacion(user_input)\n",
    "#Con este input hacemos que el usuario digite el código\n",
    "#Gracias a realizar las operaciones solo con los primeros 9 numeros, no importará la cantidad de digitos que ingrese el usuario\n",
    "#\n",
    "#Nos podemos dar cuenta que la suma de 1+4+9+5+3+3+5+9+4 = 43 y el modulo 11 es = 10\n",
    "#Por ende, nuestra función toma solo los primeros 9 digitos del código ingresado"
   ]
  },
  {
   "cell_type": "code",
   "execution_count": 20,
   "id": "d1a5b9ee",
   "metadata": {},
   "outputs": [
    {
     "name": "stdout",
     "output_type": "stream",
     "text": [
      "Escriba un numero:  111111111111111111111111111\n",
      "[1 2 3 4 5 6 7 8 9]\n",
      "45\n",
      "1\n"
     ]
    }
   ],
   "source": [
    "###ahora intentemoslo con un sólo número pero 9 o más digitos, tomemos como ejemplo el \"1\"\n",
    "\n",
    "\n",
    "\n",
    "\n",
    "\n",
    "\n",
    "import numpy as np\n",
    "#Importamos la función numpy para poder hacer la multiplicación entre las listas\n",
    "lst = []\n",
    "#Creamos una lista para el ingreso del código\n",
    "def digito_verificacion(n):\n",
    "    lst2=[1,2,3,4,5,6,7,8,9]\n",
    "    \n",
    "#definimos lst2 como 1,2,3,...,9 para hacer más simple la operación sin necesidad de usar for\n",
    "    \n",
    "    for i in n:\n",
    "        lst.append(int(i))\n",
    "#Este for hace que los datos ingresados inicialmente se agreguen a la lista \"lst\"\n",
    "        \n",
    "    product = (np.multiply(lst[0:9],lst2[0:9]))%11\n",
    "    #Con esta operación tomamos los primeros 9 números de la lista que ingresó el usuario y multiplicamos por\n",
    "    #la lista que ya definimos que era \n",
    "    #Afuera del paréntesis ponemos \"%11\" lo cual indica que a cada numero de la lista sacará su mod11 \n",
    "    #Por cierto, esto se guarda en una nueva lista \"product\"\n",
    "    print(product)\n",
    "    #Aquí imprimimos \"product\" para verificar los datos de la lista luego de la suma\n",
    "    sumatoria= sum(product[0:9])\n",
    "    #Sumamos los primeros 9 numeros de numeros de la lista \"product\"\n",
    "    print(sumatoria)\n",
    "    sumatoria = sumatoria%11\n",
    "    print(sumatoria)\n",
    "    \n",
    "user_input = input(\"Escriba un numero:  \")\n",
    "digito_verificacion(user_input)\n",
    "#Con este input hacemos que el usuario digite el código\n",
    "#Gracias a realizar las operaciones solo con los primeros 9 numeros, no importará la cantidad de digitos que ingrese el usuario\n",
    "#Efectivamente, la suma de 1+2+3+4+5+6+7+8+9 = 45 y su modulo 11 es \"1\""
   ]
  },
  {
   "cell_type": "code",
   "execution_count": null,
   "id": "feffc82a",
   "metadata": {},
   "outputs": [],
   "source": []
  }
 ],
 "metadata": {
  "kernelspec": {
   "display_name": "Python 3 (ipykernel)",
   "language": "python",
   "name": "python3"
  },
  "language_info": {
   "codemirror_mode": {
    "name": "ipython",
    "version": 3
   },
   "file_extension": ".py",
   "mimetype": "text/x-python",
   "name": "python",
   "nbconvert_exporter": "python",
   "pygments_lexer": "ipython3",
   "version": "3.10.0"
  }
 },
 "nbformat": 4,
 "nbformat_minor": 5
}
