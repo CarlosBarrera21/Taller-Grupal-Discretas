{
  "nbformat": 4,
  "nbformat_minor": 0,
  "metadata": {
    "colab": {
      "name": "02_expansionBaseB.ipynb",
      "provenance": []
    },
    "kernelspec": {
      "name": "python3",
      "display_name": "Python 3"
    },
    "language_info": {
      "name": "python"
    }
  },
  "cells": [
    {
      "cell_type": "markdown",
      "source": [
        " Si b>1, sabemos que dado un entero positivo , este se puede expresar de forma única de la forma.\n",
        "\n",
        "\n",
        "$$\\mathrm{n=A_kB^k+a_{k-1} b^{k-1}+...+a_2b^2+1_1b+a_0 }$$\n",
        "\n",
        "\n",
        " \n",
        " \n",
        "\n",
        " \n",
        "donde $$\\mathrm{0≤a_i<b a_k≠0}$$ dicho de otra forma la expansión de `n` en base b es $$\\mathrm{(a_ka_{k-1}...a_1a_0)_b}$$. Codifique una función `expansion(n,b)` que reciba n,b **enteros positivos** con b>1 y que tenga como output la representación en base  como una lista con los valores $$\\mathrm{a_i}$$, es decir: $$\\mathrm{[a_k,a_{k-1},\\dots,a_1,a_0]}$$. Por ejemplo `expansion(12,2`) el output será [1,1,0,0]. "
      ],
      "metadata": {
        "id": "2N6OcD7sq9g-"
      }
    },
    {
      "cell_type": "code",
      "execution_count": 50,
      "metadata": {
        "id": "-MBAG46Oq7RU"
      },
      "outputs": [],
      "source": [
        "def expansion(n,b):\n",
        "  residuo=[]\n",
        "  if n<0 or b<2:\n",
        "    print (\"los numeros son incorrectos\")\n",
        "  while n>0 and b>1: \n",
        "    m=n%b\n",
        "    residuo.append(m)\n",
        "    n=n//b\n",
        "  eFinal = list(reversed(residuo))\n",
        "  print(eFinal)\n",
        "\n",
        " \n"
      ]
    },
    {
      "cell_type": "code",
      "source": [
        "expansion(12,2)"
      ],
      "metadata": {
        "colab": {
          "base_uri": "https://localhost:8080/"
        },
        "id": "OF6gA_Nzhxji",
        "outputId": "b3bb70e1-a3e5-40cc-f3f5-62e1553b3f93"
      },
      "execution_count": 52,
      "outputs": [
        {
          "output_type": "stream",
          "name": "stdout",
          "text": [
            "[1, 1, 0, 0]\n"
          ]
        }
      ]
    }
  ]
}